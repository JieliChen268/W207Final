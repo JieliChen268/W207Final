{
 "cells": [
  {
   "cell_type": "code",
   "execution_count": 1,
   "metadata": {
    "collapsed": false
   },
   "outputs": [],
   "source": [
    "%matplotlib inline\n",
    "\n",
    "from lasagne import layers\n",
    "from lasagne.updates import nesterov_momentum\n",
    "from nolearn.lasagne import NeuralNet\n",
    "\n",
    "import os\n",
    "import time\n",
    "import csv\n",
    "import shelve\n",
    "from datetime import datetime\n",
    "\n",
    "import numpy as np\n",
    "from pandas.io.parsers import read_csv\n",
    "from sklearn.utils import shuffle\n",
    "\n",
    "import matplotlib.pyplot as plt\n",
    "from matplotlib import cm\n",
    "\n",
    "import theano \n",
    "from theano import tensor as T\n",
    "from theano.sandbox.rng_mrg import MRG_RandomStreams as RandomStreams\n",
    "from theano.tensor.nnet.conv import conv2d\n",
    "from theano.tensor.signal.downsample import max_pool_2d\n",
    "print theano.config.device # We're using CPUs (for now)\n",
    "print theano.config.floatX # Should be 64 bit for CPUs\n",
    "\n",
    "np.random.seed(0)"
   ]
  },
  {
   "cell_type": "markdown",
   "metadata": {},
   "source": [
    "###Data import, scaling and randomization"
   ]
  },
  {
   "cell_type": "code",
   "execution_count": 2,
   "metadata": {
    "collapsed": false
   },
   "outputs": [
    {
     "name": "stdout",
     "output_type": "stream",
     "text": [
      "X.shape == (7049L, 9216L); X.min == 0.000; X.max == 1.000\n",
      "y.shape == (7049L, 30L); y.min == nan; y.max == nan\n",
      "X_t.shape == (1783L, 9216L); X_t.min == 0.000; X_t.max == 1.000\n"
     ]
    }
   ],
   "source": [
    "FTRAIN = './Data/FKD_Train.csv'\n",
    "FTEST = './Data/FKD_Test.csv'\n",
    "\n",
    "def load(test=False, cols=None):\n",
    "    \"\"\"Loads data from FTEST if *test* is True, otherwise from FTRAIN.\n",
    "    Pass a list of *cols* if you're only interested in a subset of the\n",
    "    target columns.\n",
    "    \"\"\"\n",
    "    fname = FTEST if test else FTRAIN\n",
    "    df = read_csv(os.path.expanduser(fname))  # load pandas dataframe\n",
    "\n",
    "    # The Image column has pixel values separated by space; convert\n",
    "    # the values to numpy arrays:\n",
    "    df['Image'] = df['Image'].apply(lambda im: np.fromstring(im, sep=' '))\n",
    "\n",
    "    if cols:  # get a subset of columns\n",
    "        df = df[list(cols) + ['Image']]\n",
    "\n",
    "#     print(df.count())  # prints the number of values for each column\n",
    "#     df = df.dropna()  # drop all rows that have missing values in them\n",
    "\n",
    "    X = np.vstack(df['Image'].values) / 255.  # scale pixel values to [0, 1]\n",
    "    X = X.astype(np.float32)\n",
    "\n",
    "    if not test:  # only FTRAIN has any target columns\n",
    "        y = df[df.columns[:-1]].values\n",
    "        # scale target coordinates to [-1, 1] - need because we don't have bias on the net\n",
    "        y = (y - 48) / 48  # 96/2=48\n",
    "#         X, y = shuffle(X, y, random_state=42)  # shuffle train data\n",
    "        y = y.astype(np.float32)\n",
    "        shuffle = np.random.permutation(np.arange(X.shape[0]))\n",
    "        X, y = X[shuffle], y[shuffle]\n",
    "    else:\n",
    "        y = None\n",
    "\n",
    "    return X, y, np.array(df.columns[:-1])\n",
    "\n",
    "X, y, y_name = load()\n",
    "X_t, trash, junk = load(test=True)\n",
    "print(\"X.shape == {}; X.min == {:.3f}; X.max == {:.3f}\".format(X.shape, X.min(), X.max()))\n",
    "print(\"y.shape == {}; y.min == {:.3f}; y.max == {:.3f}\".format(y.shape, y.min(), y.max()))\n",
    "print(\"X_t.shape == {}; X_t.min == {:.3f}; X_t.max == {:.3f}\".format(X_t.shape, X_t.min(), X_t.max()))"
   ]
  },
  {
   "cell_type": "markdown",
   "metadata": {},
   "source": [
    "###Baseline - Mean Patch Searching algorithm\n",
    " - http://cs229.stanford.edu/proj2014/Yue%20Wang,Yang%20Song,Facial%20Keypoints%20Detection.pdf"
   ]
  },
  {
   "cell_type": "code",
   "execution_count": null,
   "metadata": {
    "collapsed": true
   },
   "outputs": [],
   "source": [
    "class MeanPatchSearching:\n",
    "    # Initialize an instance of the class.\n",
    "    def __init__(self, patch_size=10, search_size=10, stretch=True):\n",
    "        self.patch_size = patch_size\n",
    "        self.search_size = search_size\n",
    "        self.isStretch = stretch\n",
    "        self.patch_index = np.array([[i,j] for i in range(-patch_size, patch_size+1) \n",
    "                                           for j in range(-patch_size, patch_size+1)])\n",
    "        self.search_index = np.array([[i,j] for i in range(-search_size, search_size+1) \n",
    "                                            for j in range(-search_size, search_size+1)])\n",
    "    \n",
    "    # train the model\n",
    "    def fit(self, train_faces, train_coordinates):\n",
    "        start = datetime.now()\n",
    "        # stretch input if needed\n",
    "        if False: #self.isStretch:\n",
    "            train_faces = np.array([self._histogramStretching(x) for x in train_faces])\n",
    "        # number of faces to train\n",
    "        self.num_examples = train_faces.shape[0]\n",
    "        print 'number of training faces: %d' %self.num_examples\n",
    "        # assuming coordinates are (x,y) pairs for each key point\n",
    "        self.num_keypoints = train_coordinates.shape[1]/2\n",
    "        # image dimension\n",
    "        self.ncolumn = np.sqrt(train_faces.shape[1])\n",
    "        self.nrow = self.ncolumn\n",
    "        \n",
    "        # get patches and their centers for all keypoints\n",
    "        self.patches, self.patch_centers = [], []\n",
    "        for i in range(self.num_keypoints):\n",
    "            # get coordinates of current keypoint\n",
    "            coordinates = train_coordinates[:,i*2:(i+1)*2]\n",
    "            # filter zero values (empty from file)\n",
    "            picker = coordinates[:,0]>0                        \n",
    "            # get patch if at least one face has this point\n",
    "            if sum(picker)>0:\n",
    "                # get patch for this key point\n",
    "                self.patches.append(self._getPatch(train_faces[picker], coordinates[picker]))\n",
    "                # get center for this keypoint\n",
    "                self.patch_centers.append(np.mean(coordinates[picker], axis=0))\n",
    "        \n",
    "        # convert to numpy array      \n",
    "        self.patches = np.array(self.patches)\n",
    "        self.patch_centers = np.array(self.patch_centers)\n",
    "        self.num_keypoints = self.patches.shape[0]\n",
    "        self.training_time = (datetime.now()-start).total_seconds()/60.0\n",
    "        print 'training patches shape: %s' %str(self.patches.shape)\n",
    "        print 'training time: %.1f minutes' %self.training_time\n",
    "        # show training patches\n",
    "#         self._plotPatches()\n",
    "        \n",
    "    # Make prediction for each test face and return coordinates.\n",
    "    def predict(self, test_faces):\n",
    "        start = datetime.now()\n",
    "        # stretch input if needed\n",
    "        if self.isStretch:\n",
    "            test_faces = np.array([self._histogramStretching(x) for x in test_faces])\n",
    "        self.num_predict = test_faces.shape[0]\n",
    "        print 'number of predicting faces: %d' %self.num_predict\n",
    "        predictions = []\n",
    "        for i in range(self.num_predict):\n",
    "            if np.mod((i+1), self.num_predict/10)==0:\n",
    "                print 'Complete %d%% ...' %(100.0*(i+1)/self.num_predict)\n",
    "            pred = self._predictOneFace(test_faces[i])            \n",
    "            predictions.append(np.reshape(pred, (1,2*self.num_keypoints))[0])        \n",
    "        self.pred_coor = np.array(predictions)\n",
    "        self.predict_time = (datetime.now()-start).total_seconds()/60.0\n",
    "        print 'Done! - Predict time: %.1f minutes' %self.predict_time\n",
    "        return self.pred_coor\n",
    "    \n",
    "    # calculate total Root Mean Squared Error (RMSE)\n",
    "    def RMSE(self, actual, pred=[]):\n",
    "        if len(pred)==0:\n",
    "            pred = self.pred_coor\n",
    "        picker = actual>0        \n",
    "        tRMSE = np.sqrt(np.sum((actual[picker]-pred[picker])**2)/np.sum(picker)) \n",
    "        return 'Total RMSE: %.2f, patch size: %d, search size: %d' %(tRMSE, self.patch_size, self.search_size)\n",
    "    \n",
    "    # save the submission file based on prediction made for test images\n",
    "    def getSubmission(self, LookupTable, feature_name):\n",
    "        # create a dictionary for feature name indexing\n",
    "        feature_index = {x:np.where(feature_name==x)[0][0] for x in feature_name}\n",
    "        lookupRow = []\n",
    "        with open(LookupTable) as csvfile:\n",
    "            # read the lookup file\n",
    "            lookupReader = csv.reader(csvfile, delimiter=',')\n",
    "            lookupRow.append(lookupReader.next())\n",
    "            for row in lookupReader:\n",
    "                # get the prediction based on image ID and feature name, and attach to the row\n",
    "                location = self.pred_coor[int(row[1])-1, feature_index[row[2]]]\n",
    "                lookupRow.append(np.append(row, location))\n",
    "        lookupRow = np.array(lookupRow)\n",
    "        # save row ID and location ID columns only to the submission file\n",
    "        saveFile = 'submission_'+datetime.now().strftime(\"%Y%m%d%H%M%S\")+'.csv'\n",
    "        with open(saveFile, 'wb') as f:\n",
    "            writer = csv.writer(f)\n",
    "            writer.writerows(lookupRow[:,[0,3]])\n",
    "        print 'Submission file saved as: %s' %saveFile\n",
    "        return lookupRow\n",
    "        \n",
    "    # get the prediction for one face\n",
    "    def _predictOneFace(self, face):\n",
    "        # get prediction for each keypoint available in the model\n",
    "        pred_coor = []\n",
    "        for gold_p, center in zip(self.patches, self.patch_centers):\n",
    "            # get the candidate points based on search size\n",
    "            candidates = self._getCandidates(center)\n",
    "            # get a patch for each candidate point     \n",
    "            pred_p = [self._getPatch([face], [x]) for x in candidates]\n",
    "\n",
    "            # compare the patches from candidate points with gold_p\n",
    "            # TODO: use better distance\n",
    "            dist = [np.sum(np.abs(gold_p-x)) for x in pred_p]\n",
    "            pred_coor.append(candidates[np.argmin(dist)])\n",
    "        return pred_coor\n",
    "    \n",
    "    # get the candidate points - return the coordinates\n",
    "    def _getCandidates(self, center):  \n",
    "        r, c = np.round(center)\n",
    "        candidates = np.array([[r+i, c+j] for i,j in self.search_index])\n",
    "        # only keep those within the bound\n",
    "        picker = (np.sum(candidates>=0,axis=1) + np.sum(candidates<[self.nrow,self.ncolumn],axis=1))==4        \n",
    "        return candidates[picker]\n",
    "    \n",
    "    # get the patch for one keypoint from all faces\n",
    "    def _getPatch(self, faces, keypoints):    \n",
    "        patches = []\n",
    "        for face, keypoint in zip(faces, keypoints):\n",
    "            # get keypoint pixel row and column index\n",
    "            r, c = np.round(keypoint)        \n",
    "            # get indices for the patch (including self)\n",
    "            neighbors = np.array([[r+i, c+j] for i,j in self.patch_index])\n",
    "            if np.sum(neighbors>=0)+np.sum(neighbors<[self.nrow,self.ncolumn]) == np.prod(neighbors.shape)*2:\n",
    "                patches.append(face[[r*self.ncolumn + c for r,c in neighbors]])\n",
    "#             else:\n",
    "#                 print 'warning - nonconforming patch'\n",
    "#         print np.array(patches).shape\n",
    "        return np.mean(patches, axis=0)\n",
    "\n",
    "    # histogram stretching pre-processing\n",
    "    def _histogramStretching(self, image):\n",
    "        # a, b = min(image), max(image) \n",
    "        a, b = np.percentile(image, 5), np.percentile(image, 95)\n",
    "        l, u = 0, 255\n",
    "        const = 1.0*(b*l - a*u)/(b - a)\n",
    "        k = 1.0*(u-l)/(b-a)\n",
    "        return [k*p+const for p in image]\n",
    "    \n",
    "    # plot average patch from training\n",
    "    def _plotPatches(self):\n",
    "        n_side = 2*self.patch_size+1\n",
    "        keypoints = np.reshape([x[:-2] for x in feature_name],(self.num_keypoints,2))\n",
    "        plt.figure(figsize=(16, 8))\n",
    "        i = 1\n",
    "        for point, patch in zip(keypoints[:,0], self.patches):\n",
    "            plt.subplot(3,5,i)\n",
    "            plt.imshow(np.reshape(patch,(n_side,n_side)), cmap = cm.gray)\n",
    "            plt.title(point)\n",
    "            plt.axis('off')\n",
    "            i += 1\n",
    "        plt.show()\n",
    "        \n",
    "\n",
    "##### Get baseline score\n",
    "# training\n",
    "mps = MeanPatchSearching(patch_size=9, search_size=5, stretch=True)\n",
    "mps.fit(train_faces[:150], train_coordinates[:150])\n",
    "# predicting\n",
    "predictions = mps.predict(test_faces)\n",
    "mps.getSubmission('./Data/FKD_IdLookupTable.csv', feature_name)"
   ]
  },
  {
   "cell_type": "markdown",
   "metadata": {},
   "source": [
    "###Feature engineering 1: Histogram Stretching\n",
    " - $a$ and $b$ are 5 and 95 percentile of the image\n",
    " - $l$ and $u$ are 0 and 1 respectively for the maximum range\n",
    " - histogram stretching transfers any point $p$ of the image to $p^{\\prime}$ such that: $\\displaystyle \\frac{p-a}{b-a} = \\frac{p^{\\prime}-l}{u-l} $\n",
    " - the transferred image is expected to have better contrast"
   ]
  },
  {
   "cell_type": "code",
   "execution_count": 3,
   "metadata": {
    "collapsed": false
   },
   "outputs": [
    {
     "name": "stdout",
     "output_type": "stream",
     "text": [
      "Histogram stretching completed!\n"
     ]
    }
   ],
   "source": [
    "def HistogramStretching(image):\n",
    "#     a, b = min(image), max(image) \n",
    "    a, b = np.percentile(image, 5), np.percentile(image, 95)\n",
    "    l, u = 0, 1\n",
    "    const = 1.0*(b*l - a*u)/(b - a)\n",
    "    k = 1.0*(u-l)/(b-a)\n",
    "    return [k*p+const for p in image]\n",
    "\n",
    "X = [HistogramStretching(x) for x in X]\n",
    "X_t = [HistogramStretching(x) for x in X_t]\n",
    "print 'Histogram stretching completed!'"
   ]
  },
  {
   "cell_type": "markdown",
   "metadata": {},
   "source": [
    "###Feature engineering 2: Gaussian Blur\n",
    " - reference: http://www.pixelstech.net/article/1353768112-Gaussian-Blur-Algorithm"
   ]
  },
  {
   "cell_type": "code",
   "execution_count": 5,
   "metadata": {
    "collapsed": false
   },
   "outputs": [
    {
     "name": "stdout",
     "output_type": "stream",
     "text": [
      "Gaussian blur completed in 1085 seconds!\n"
     ]
    }
   ],
   "source": [
    "# define the Gaussian weights of neighbors as constant variable\n",
    "sigma2 = 1.25**2\n",
    "neighborIndex = [[i,j] for i in range(-1,2) for j in range(-1,2)]\n",
    "gaussianWeight = np.array([np.exp(-(i**2+j**2)/(2*sigma2))/(2*np.pi*sigma2) for i,j in neighborIndex])\n",
    "gaussianWeight = gaussianWeight / sum(gaussianWeight)\n",
    "\n",
    "# function to return the index of neighborhood pixels for pixel at n\n",
    "def getNeighborAndWeight(n, ncolumn, nrow):    \n",
    "    # get row and column id first for index i\n",
    "    (r, c) = divmod(n, ncolumn)\n",
    "    # get indices for the neighbors (including self)\n",
    "    neighbors = [[r+i,c+j] for i,j in neighborIndex]\n",
    "    # get neighbor index and the associated Gauusian weigth\n",
    "    neighborWeights = []\n",
    "    for nb, gw in zip(neighbors, gaussianWeight):  # range(len(neighbors)):\n",
    "        r,c = nb\n",
    "        if r>=0 and r<nrow and c>=0 and c<ncolumn:                  \n",
    "            neighborWeights.append([r*ncolumn + c, gw])\n",
    "    return neighborWeights\n",
    "\n",
    "# apply Gaussian blur to one image\n",
    "def gaussianBlurOneSample(x):\n",
    "    y = np.empty(len(x))\n",
    "    for i in range(len(x)):\n",
    "        neighbors = getNeighborAndWeight(i,96,96)\n",
    "        y[i] = sum([x[j[0]]*j[1] for j in neighbors])\n",
    "    return y\n",
    "\n",
    "start_time = time.time()\n",
    "X = [gaussianBlurOneSample(x) for x in X]\n",
    "X_t = [gaussianBlurOneSample(x) for x in X_t]\n",
    "print 'Gaussian blur completed in %.f seconds!' %(time.time()-start_time)"
   ]
  },
  {
   "cell_type": "markdown",
   "metadata": {},
   "source": [
    "###Feature engineering 3: Flip image to increase training sample\n",
    " - flip the face horizontally\n",
    " - rename x features by switching left and right"
   ]
  },
  {
   "cell_type": "code",
   "execution_count": 6,
   "metadata": {
    "collapsed": false
   },
   "outputs": [
    {
     "name": "stdout",
     "output_type": "stream",
     "text": [
      "After merge X:(14098L, 9216L), y:(14098L, 30L)\n"
     ]
    }
   ],
   "source": [
    "# flip the image\n",
    "X_flip = np.reshape(np.reshape(X, (-1,1,96,96))[:, :, :, ::-1], (-1, 96*96))\n",
    "\n",
    "# flip the x coordinate value\n",
    "multiplier = [-1,1]*(y.shape[1]/2)\n",
    "y_flip = np.multiply([multiplier,]*y.shape[0], y)\n",
    "\n",
    "# flip the x coordinates/column name\n",
    "y_name_flip = []\n",
    "for name in y_name:\n",
    "    if 'left' in name.lower():\n",
    "#         print name + ' --> ' + name.replace('left','right')\n",
    "        y_name_flip.append(name.replace('left','right'))\n",
    "    elif 'right' in name.lower():\n",
    "#         print name + ' --> ' + name.replace('right','left')\n",
    "        y_name_flip.append(name.replace('right','left'))\n",
    "    else:\n",
    "        y_name_flip.append(name)\n",
    "y_name_flip=np.array(y_name_flip)\n",
    "isort = [np.where(y_name_flip==x)[0][0] for x in y_name]\n",
    "\n",
    "# combine data and align with original column\n",
    "y = np.concatenate((y, y_flip[:, isort]), axis=0)\n",
    "X = np.concatenate((X, X_flip), axis=0)\n",
    "print 'After merge X:%s, y:%s' %(X.shape, y.shape)"
   ]
  },
  {
   "cell_type": "markdown",
   "metadata": {},
   "source": [
    "###Feature engineering 4: Group image to obtain training sets\n",
    " - group images with same training keypoints\n",
    " "
   ]
  },
  {
   "cell_type": "code",
   "execution_count": 7,
   "metadata": {
    "collapsed": false
   },
   "outputs": [
    {
     "name": "stdout",
     "output_type": "stream",
     "text": [
      "\n",
      "images # vs. features # for top 7 groups:\n",
      "[[  12   26]\n",
      " [  20    6]\n",
      " [  26   28]\n",
      " [  57   28]\n",
      " [  57   28]\n",
      " [4280   30]\n",
      " [9510    8]]\n",
      "1st training set: X1:(9510L, 1L, 96L, 96L) - y1:(9510L, 8L), y1.min:-0.986, y1.max:0.988\n",
      "2nd training set: X2:(4280L, 1L, 96L, 96L) - y2:(4280L, 30L), y2.min:-0.964, y2.max:0.996\n",
      "testing set: x_t:(1783L, 1L, 96L, 96L)\n"
     ]
    }
   ],
   "source": [
    "X_group, y_group = {}, {}\n",
    "i = 0\n",
    "for x,f in zip(X,y):    \n",
    "    picker = ~np.isnan(f)\n",
    "    id = str.join(',', y_name[picker])\n",
    "    if id not in X_group:\n",
    "        X_group[id] = []\n",
    "        y_group[id] = []\n",
    "    X_group[id].append(x)\n",
    "    y_group[id].append(f[picker])\n",
    "    \n",
    "feature_size = np.array([np.array(x[1]).shape for x in y_group.items()]) \n",
    "big_group = feature_size[:,0].argsort()\n",
    "n_top = 7\n",
    "print '\\nimages # vs. features # for top %d groups:' %n_top\n",
    "print feature_size[big_group][-n_top:]\n",
    "\n",
    "X1 = np.reshape(X_group.items()[big_group[-1]][1], (-1, 1, 96, 96))\n",
    "X2 = np.reshape(X_group.items()[big_group[-2]][1], (-1, 1, 96, 96))\n",
    "y1 = np.array(y_group.items()[big_group[-1]][1])\n",
    "y2 = np.array(y_group.items()[big_group[-2]][1])\n",
    "feature1 = y_group.keys()[big_group[-1]].split(',')\n",
    "feature2 = y_group.keys()[big_group[-2]].split(',')\n",
    "x_t = np.reshape(X_t, (-1, 1, 96, 96))\n",
    "\n",
    "print '1st training set: X1:%s - y1:%s, y1.min:%.3f, y1.max:%.3f' %(str(X1.shape), str(y1.shape), y1.min(), y1.max())\n",
    "print '2nd training set: X2:%s - y2:%s, y2.min:%.3f, y2.max:%.3f' %(str(X2.shape), str(y2.shape), y2.min(), y2.max())\n",
    "print 'testing set: x_t:%s' %str(x_t.shape)"
   ]
  },
  {
   "cell_type": "markdown",
   "metadata": {},
   "source": [
    "###Model 1 - Convolutional Neural Network by Lasagne\n",
    " - 3 Convolutional layers with reception filter: (3x3), (2x2), (2x2) respectively\n",
    " - number of layers: 32, 64, 128\n",
    " - https://github.com/Lasagne/Lasagne/blob/master/lasagne/layers/conv.py\n",
    " - 3 downsampling layers with filter size (2x2) for each\n",
    " - https://github.com/Lasagne/Lasagne/blob/master/lasagne/layers/pool.py\n",
    " - choose rectify activation function for each convolutional layer\n",
    " - https://github.com/dnouri/nolearn/blob/master/nolearn/lasagne/base.py"
   ]
  },
  {
   "cell_type": "code",
   "execution_count": null,
   "metadata": {
    "collapsed": false
   },
   "outputs": [
    {
     "name": "stdout",
     "output_type": "stream",
     "text": [
      "  input             \t(None, 1, 96, 96)   \tproduces    9216 outputs\n",
      "  conv1             \t(None, 32, 94, 94)  \tproduces  282752 outputs\n",
      "  pool1             \t(None, 32, 47, 47)  \tproduces   70688 outputs\n",
      "  conv2             \t(None, 64, 46, 46)  \tproduces  135424 outputs\n",
      "  pool2             \t(None, 64, 23, 23)  \tproduces   33856 outputs\n",
      "  conv3             \t(None, 128, 22, 22) \tproduces   61952 outputs\n",
      "  pool3             \t(None, 128, 11, 11) \tproduces   15488 outputs\n",
      "  hidden4           \t(None, 500)         \tproduces     500 outputs\n",
      "  hidden5           \t(None, 500)         \tproduces     500 outputs\n",
      "  output            \t(None, 8)           \tproduces       8 outputs\n",
      "  epoch    train loss    valid loss    train/val  dur\n",
      "-------  ------------  ------------  -----------  -------\n",
      "      1       \u001b[94m0.01655\u001b[0m       \u001b[32m0.00784\u001b[0m      2.11177  533.37s\n",
      "      2       \u001b[94m0.00807\u001b[0m       \u001b[32m0.00703\u001b[0m      1.14848  547.11s\n",
      "      3       \u001b[94m0.00752\u001b[0m       \u001b[32m0.00662\u001b[0m      1.13604  567.80s\n",
      "      4       \u001b[94m0.00720\u001b[0m       \u001b[32m0.00636\u001b[0m      1.13168  560.52s\n",
      "      5       \u001b[94m0.00700\u001b[0m       \u001b[32m0.00619\u001b[0m      1.13023  553.04s\n",
      "      6       \u001b[94m0.00685\u001b[0m       \u001b[32m0.00607\u001b[0m      1.12890  543.19s\n",
      "      7       \u001b[94m0.00675\u001b[0m       \u001b[32m0.00599\u001b[0m      1.12845  828.06s\n",
      "      8       \u001b[94m0.00668\u001b[0m       \u001b[32m0.00592\u001b[0m      1.12807  544.97s\n",
      "      9       \u001b[94m0.00663\u001b[0m       \u001b[32m0.00588\u001b[0m      1.12803  530.23s\n",
      "     10       \u001b[94m0.00658\u001b[0m       \u001b[32m0.00583\u001b[0m      1.12815  525.10s\n",
      "     11       \u001b[94m0.00654\u001b[0m       \u001b[32m0.00580\u001b[0m      1.12824  521.76s\n",
      "     12       \u001b[94m0.00650\u001b[0m       \u001b[32m0.00576\u001b[0m      1.12865  521.09s\n",
      "     13       \u001b[94m0.00646\u001b[0m       \u001b[32m0.00572\u001b[0m      1.12872  521.62s\n",
      "     14       \u001b[94m0.00642\u001b[0m       \u001b[32m0.00569\u001b[0m      1.12896  529.25s\n",
      "     15       \u001b[94m0.00638\u001b[0m       \u001b[32m0.00565\u001b[0m      1.12929  520.75s\n",
      "     16       \u001b[94m0.00634\u001b[0m       \u001b[32m0.00561\u001b[0m      1.12980  518.36s\n",
      "     17       \u001b[94m0.00629\u001b[0m       \u001b[32m0.00557\u001b[0m      1.13038  518.36s\n",
      "     18       \u001b[94m0.00625\u001b[0m       \u001b[32m0.00553\u001b[0m      1.13058  518.82s\n",
      "     19       \u001b[94m0.00621\u001b[0m       \u001b[32m0.00549\u001b[0m      1.13116  518.12s\n",
      "     20       \u001b[94m0.00616\u001b[0m       \u001b[32m0.00544\u001b[0m      1.13184  522.56s\n",
      "     21       \u001b[94m0.00611\u001b[0m       \u001b[32m0.00539\u001b[0m      1.13271  519.83s\n",
      "     22       \u001b[94m0.00606\u001b[0m       \u001b[32m0.00534\u001b[0m      1.13351  519.23s\n",
      "     23       \u001b[94m0.00600\u001b[0m       \u001b[32m0.00529\u001b[0m      1.13439  519.41s\n",
      "     24       \u001b[94m0.00594\u001b[0m       \u001b[32m0.00523\u001b[0m      1.13515  520.18s\n",
      "     25       \u001b[94m0.00588\u001b[0m       \u001b[32m0.00518\u001b[0m      1.13573  532.92s"
     ]
    }
   ],
   "source": [
    "\n",
    "def getCNN(n_output):\n",
    "    net = NeuralNet(\n",
    "        layers=[\n",
    "            ('input', layers.InputLayer),\n",
    "            ('conv1', layers.Conv2DLayer),\n",
    "            ('pool1', layers.MaxPool2DLayer),\n",
    "            ('conv2', layers.Conv2DLayer),\n",
    "            ('pool2', layers.MaxPool2DLayer),\n",
    "            ('conv3', layers.Conv2DLayer),\n",
    "            ('pool3', layers.MaxPool2DLayer),\n",
    "            ('hidden4', layers.DenseLayer),\n",
    "            ('hidden5', layers.DenseLayer),\n",
    "            ('output', layers.DenseLayer),\n",
    "            ],\n",
    "        input_shape=(None, 1, 96, 96),\n",
    "        # 3 convoluational layer\n",
    "        conv1_num_filters=32, conv1_filter_size=(3, 3), pool1_pool_size=(2, 2),\n",
    "        conv2_num_filters=64, conv2_filter_size=(2, 2), pool2_pool_size=(2, 2),\n",
    "        conv3_num_filters=128, conv3_filter_size=(2, 2), pool3_pool_size=(2, 2),\n",
    "        # 2 fully connected hidden layer\n",
    "        hidden4_num_units=500, hidden5_num_units=500,\n",
    "        # fully connected output layer, no activation function to give continuous output\n",
    "        output_num_units=n_output, output_nonlinearity=None,\n",
    "\n",
    "        update_learning_rate=0.02,\n",
    "        update_momentum=0.9,\n",
    "    \n",
    "        regression=True,\n",
    "        max_epochs=50,\n",
    "        verbose=1,\n",
    "        )\n",
    "    return net"
   ]
  },
  {
   "cell_type": "markdown",
   "metadata": {},
   "source": [
    "###Train, predict and assemble result to generate submission file\n",
    " - train one model (net1) with X1 dataset - 9510 images with 4 key points\n",
    " - train one model (net2) with X2 dataset - 4280 images with all 15 key points\n",
    " - each model predicts for 1783 testing images, and gives predictions for their training key ponits\n",
    " - for common points we take the mean between two predictions\n",
    " "
   ]
  },
  {
   "cell_type": "code",
   "execution_count": 8,
   "metadata": {
    "collapsed": false
   },
   "outputs": [
    {
     "name": "stdout",
     "output_type": "stream",
     "text": [
      "Prediction time: 51.67 sec, y_hat1.(1783, 8)\n",
      "Submission file saved as: submission_20150726132410.csv\n"
     ]
    }
   ],
   "source": [
    "##### CNN for X1 training set () ##### #0.00518 \n",
    "net1 = getCNN(y1.shape[1])\n",
    "net1.fit(X1, y1)\n",
    "start_time = time.time()\n",
    "y_hat1 = net1.predict(x_t)*48+48\n",
    "print 'Prediction time: %.2f sec, y_hat1.%s' %(time.time()-start_time, str(y_hat1.shape))\n",
    "save(['y_hat1'])\n",
    "\n",
    "##### CNN for X2 training set () ##### #0.00456\n",
    "net2 = getCNN(y2.shape[1])\n",
    "net2.fit(X2, y2)\n",
    "start_time = time.time()\n",
    "y_hat2 = net2.predict(x_t)*48+48 # rescale it back\n",
    "print 'Prediction time: %.2f sec, y_hat2.%s' %(time.time()-start_time, str(y_hat2.shape))\n",
    "\n",
    "save(['y_hat1','y_hat2'])\n",
    "\n",
    "##### get submission file - group 2 has all points\n",
    "def getSubmission(LookupTable):\n",
    "    # create a dictionary for feature name indexing\n",
    "    index2 = {feature2[x]:x for x in range(len(feature2))}\n",
    "    index1 = {feature1[x]:x for x in range(len(feature1))}\n",
    "    lookupRow = []\n",
    "    with open(LookupTable) as csvfile:\n",
    "        # read the lookup file\n",
    "        lookupReader = csv.reader(csvfile, delimiter=',')\n",
    "        lookupRow.append(lookupReader.next())\n",
    "        for row in lookupReader:\n",
    "            # get the prediction based on image ID and feature name, and attach to the row\n",
    "            image_id, fea = int(row[1])-1, row[2]\n",
    "            location = y_hat2[image_id, index2[fea]]\n",
    "            if fea in index1:\n",
    "                location = (location + y_hat1[image_id, index1[fea]])/2\n",
    "            lookupRow.append(np.append(row, location))\n",
    "    lookupRow = np.array(lookupRow)\n",
    "    # save row ID and location ID columns only to the submission file\n",
    "    saveFile = 'submission_' + datetime.now().strftime(\"%Y%m%d%H%M%S\") + '.csv'\n",
    "    with open(saveFile, 'wb') as f:\n",
    "        writer = csv.writer(f)\n",
    "        writer.writerows(lookupRow[:,[0,3]])\n",
    "    print 'Submission file saved as: %s' %saveFile\n",
    "\n",
    "getSubmission('./Data/FKD_IdLookupTable.csv')"
   ]
  },
  {
   "cell_type": "markdown",
   "metadata": {},
   "source": [
    "###Error Analysis\n",
    " 1. Rank prediction error on keypoints and images\n",
    "  - actual [num_test, num_coordinates] - actual keypoint coordinates from testing faces\n",
    "  - prediction [num_test, num_coordinates] - predicted keypoint cooridnates for testing faces\n",
    "  - note: two inputs must have same dimension, and the function is not comparing the absent key points (0) on the face\n",
    " 2. Visualization"
   ]
  },
  {
   "cell_type": "code",
   "execution_count": null,
   "metadata": {
    "collapsed": true
   },
   "outputs": [],
   "source": [
    "##### print a rank for predidction RMSE #####\n",
    "def RankPredictionRMSE(actual, prediction):\n",
    "    print '\\nError Analysis:'\n",
    "    feaRMSE, keyRMSE = [], []\n",
    "    # for each feature\n",
    "    for i in range(len(feature_name)):               \n",
    "        picker = actual[:,i]>0\n",
    "        feaRMSE.append(np.sqrt(np.mean((actual[picker,i]-prediction[picker,i])**2)))\n",
    "    feaRMSE = np.array(feaRMSE)\n",
    "    feaRank = np.argsort(feaRMSE)\n",
    "    \n",
    "    # for each keypoint\n",
    "    keypoints = [x[:-2] for x in feature_name]\n",
    "    indexes = np.unique(keypoints, return_index=True)[1]\n",
    "    keypoints = np.array([keypoints[i] for i in sorted(indexes)])\n",
    "    for i in range(len(keypoints)):\n",
    "        act = actual[:,i*2:(i+1)*2]\n",
    "        pre = prediction[:,i*2:(i+1)*2]\n",
    "        picker = act[:,0]>0\n",
    "        keyRMSE.append(np.sqrt(np.mean((act[picker]-pre[picker])**2)))\n",
    "    keyRMSE = np.array(keyRMSE)\n",
    "    keyRank = np.argsort(keyRMSE)\n",
    "    showKey = np.append(keypoints[keyRank][::-1], np.zeros(shape=(len(keypoints),1)))\n",
    "    showRMSE = np.append(keyRMSE[keyRank][::-1], np.zeros(shape=(len(keypoints),1)))\n",
    "    \n",
    "    # for each testing image    \n",
    "    imgRMSE = np.array([np.sqrt(np.mean((pre[act>0]-act[act>0])**2)) for pre, act in zip(prediction, actual)])\n",
    "    imgRank = np.argsort(imgRMSE)\n",
    "    \n",
    "    # print the RMSE ranking results    \n",
    "    template = \"{0:35}{1:20}{2:35}{3:10}\"\n",
    "    print template.format(\"feature name\", \"RMSE\", \"keypoint\", \"RMSE\") # header\n",
    "    for f, r1, k, r2 in zip(feature_name[feaRank][::-1], feaRMSE[feaRank][::-1], showKey, showRMSE):\n",
    "        print template.format(f, *['%.3f' %r1, '%s' %(k if k!='0.0' else ''), '%s' %('%.3f' %r2 if r2!=0 else '')])\n",
    "    \n",
    "    # plot top 10 badly predicted testing faces   \n",
    "    n_top = np.min([10, actual.shape[0]])\n",
    "    print '\\nTop %d faces with highest RMSE:' %n_top\n",
    "    plt.figure(figsize=(20, 10))\n",
    "    i=1\n",
    "    for iid in imgRank[::-1][:n_top]:\n",
    "        plt.subplot(2,5,i)        \n",
    "        plt.imshow(np.reshape(dev_faces[iid], (96,96)), cmap = cm.gray)\n",
    "        picker = actual[iid]>0\n",
    "        pre = np.reshape(prediction[iid, picker],(sum(picker)/2,2))\n",
    "        kp = np.reshape(actual[iid, picker], (sum(picker)/2,2))\n",
    "        for a,p in zip(kp, pre):\n",
    "            plt.plot(a[0],a[1],'r.')\n",
    "            plt.plot(p[0],p[1],'c.')\n",
    "        plt.axis('off')\n",
    "        plt.title('[%d] RMSE: %.3f' %(iid,imgRMSE[iid]))\n",
    "        i+=1\n",
    "\n",
    "##### Visualization #####\n",
    "def plot(image, points, pred=[]):\n",
    "    # print a picture to see\n",
    "    plt.figure(figsize=(8, 8))\n",
    "    if len(image)==96:\n",
    "        plt.imshow(image, cmap = cm.gray)\n",
    "    else:\n",
    "        plt.imshow(np.reshape(image,(96,96)), cmap = cm.gray)\n",
    "    plt.axis('off')\n",
    "    if len(points)>0:\n",
    "        for i in range(len(points)/2):\n",
    "            plt.plot(points[2*i], points[2*i+1],'r.')\n",
    "    if len(pred)>0:\n",
    "        for i in range(len(pred)/2):\n",
    "            plt.plot(pred[2*i],pred[2*i+1],'c.')"
   ]
  },
  {
   "cell_type": "markdown",
   "metadata": {},
   "source": [
    "###Saving features and results"
   ]
  },
  {
   "cell_type": "code",
   "execution_count": 10,
   "metadata": {
    "collapsed": false
   },
   "outputs": [
    {
     "name": "stdout",
     "output_type": "stream",
     "text": [
      "Saving complete!\n"
     ]
    }
   ],
   "source": [
    "def save(variables):\n",
    "    filename='./Data/save_' + datetime.now().strftime(\"%Y%m%d%H%M%S\") + '.out'\n",
    "    my_shelf = shelve.open(filename,'n') # 'n' for new\n",
    "    for key in dir():\n",
    "        try:\n",
    "            if key in variables: #['y_hat1', 'y_hat2', 'X', 'y']:\n",
    "                my_shelf[key] = globals()[key]\n",
    "        except TypeError:\n",
    "            #\n",
    "            # __builtins__, my_shelf, and imported modules can not be shelved.\n",
    "            #\n",
    "            print('ERROR shelving: {0}'.format(key))\n",
    "    my_shelf.close()\n",
    "    print 'Saving complete!'"
   ]
  },
  {
   "cell_type": "code",
   "execution_count": 5,
   "metadata": {
    "collapsed": false
   },
   "outputs": [
    {
     "name": "stdout",
     "output_type": "stream",
     "text": [
      "loaded y_hat1, y_hat2, \n"
     ]
    }
   ],
   "source": [
    "filename='./save1.out.db'\n",
    "my_shelf = shelve.open(filename)\n",
    "vNames = \"\"\n",
    "for key in my_shelf:\n",
    "    globals()[key]=my_shelf[key]\n",
    "    vNames += key + \", \"\n",
    "my_shelf.close()\n",
    "print 'loaded ' + vNames\n",
    "# print globals()"
   ]
  },
  {
   "cell_type": "markdown",
   "metadata": {},
   "source": [
    "###Model 2 - Convolutional Neural Network by Theano"
   ]
  },
  {
   "cell_type": "code",
   "execution_count": 4,
   "metadata": {
    "collapsed": false
   },
   "outputs": [],
   "source": [
    "## (1) Parameters\n",
    "numHiddenNodes = 600 \n",
    "patchWidth = 3\n",
    "patchHeight = 3\n",
    "featureMapsLayer1 = 32\n",
    "featureMapsLayer2 = 64\n",
    "featureMapsLayer3 = 128\n",
    "\n",
    "# For convonets, we will work in 2d rather than 1d.  The facial images are 96x96 in 2d.\n",
    "imageWidth = 96\n",
    "# n_train = np.round(X1.shape[0]*0.9)\n",
    "# train_X, train_y =  X1[:n_train], y1[:n_train]\n",
    "# test_X, test_y = X1[-n_train:], y1[-n_train:] \n",
    "\n",
    "n_train = np.round(X2.shape[0]*0.9)\n",
    "train_X, train_y =  X2[:n_train], y2[:n_train]\n",
    "test_X, test_y = X2[n_train:], y2[n_train:] \n",
    "\n",
    "# Convolution layers.  \n",
    "w_1 = theano.shared(np.asarray((np.random.randn(*(featureMapsLayer1, 1, patchWidth, patchHeight))*.01)))\n",
    "w_2 = theano.shared(np.asarray((np.random.randn(*(featureMapsLayer2, featureMapsLayer1, patchWidth-1, patchHeight-1))*.01)))\n",
    "w_3 = theano.shared(np.asarray((np.random.randn(*(featureMapsLayer3, featureMapsLayer2, patchWidth-1, patchHeight-1))*.01)))\n",
    "# Fully connected NN. - 12x12 - dimension of L3 (11) plus bias (1)\n",
    "w_4 = theano.shared(np.asarray((np.random.randn(*(featureMapsLayer3 * 12 * 12, numHiddenNodes))*.01)))\n",
    "w_5 = theano.shared(np.asarray((np.random.randn(*(numHiddenNodes, train_y.shape[1]))*.01)))\n",
    "params = [w_1, w_2, w_3, w_4, w_5]\n",
    "\n",
    "## (2) Model\n",
    "theano.config.floatX = 'float64'\n",
    "X = T.tensor4() # conv2d works with tensor4 type\n",
    "Y = T.matrix()\n",
    "\n",
    "srng = RandomStreams()\n",
    "def dropout(X, p=0.):\n",
    "    if p > 0:\n",
    "        X *= srng.binomial(X.shape, p=1 - p)\n",
    "        X /= 1 - p\n",
    "    return X\n",
    "\n",
    "# Theano provides built-in support for add convolutional layers\n",
    "def model(X, w_1, w_2, w_3, w_4, w_5, p_1, p_2):\n",
    "    l1 = dropout(max_pool_2d(T.maximum(conv2d(X, w_1, border_mode='full'), 0.), (2, 2)), p_1)\n",
    "    l2 = dropout(max_pool_2d(T.maximum(conv2d(l1, w_2), 0.), (2, 2)), p_1)\n",
    "    # flatten to switch back to 1d layers - with \"outdim = 2\" (2d) output \n",
    "    l3 = dropout(T.flatten(max_pool_2d(T.maximum(conv2d(l2, w_3), 0.), (2, 2)), outdim=2), p_1) \n",
    "    l4 = dropout(T.maximum(T.dot(l3, w_4), 0.), p_2)\n",
    "    return T.dot(l4, w_5) #T.nnet.softmax(T.dot(l4, w_5))\n",
    "\n",
    "y_hat_train = model(X, w_1, w_2, w_3, w_4, w_5, 0.2, 0.5)\n",
    "y_hat_predict = model(X, w_1, w_2, w_3, w_4, w_5, 0., 0.)\n",
    "\n",
    "## (3) Cost\n",
    "cost = T.sqrt(T.mean(T.sqr(Y - y_hat_train))) # T.mean(T.nnet.categorical_crossentropy(y_hat_train, Y))\n",
    "\n",
    "## (4) Minimization.  \n",
    "def backprop(cost, w, alpha=0.01, rho=0.8, epsilon=1e-6):\n",
    "    grads = T.grad(cost=cost, wrt=w)\n",
    "    updates = []\n",
    "    for w1, grad in zip(w, grads):\n",
    "        \n",
    "        # adding gradient scaling\n",
    "        acc = theano.shared(w1.get_value() * 0.)\n",
    "        acc_new = rho * acc + (1 - rho) * grad ** 2\n",
    "        gradient_scaling = T.sqrt(acc_new + epsilon)\n",
    "        grad = grad / gradient_scaling\n",
    "        updates.append((acc, acc_new))\n",
    "        \n",
    "        updates.append((w1, w1 - grad * alpha))\n",
    "    return updates\n",
    "\n",
    "update = backprop(cost, params)\n",
    "train = theano.function(inputs=[X, Y], outputs=cost, updates=update, allow_input_downcast=True)\n",
    "predict = theano.function(inputs=[X], outputs=y_hat_predict, allow_input_downcast=True)\n",
    "\n",
    "miniBatchSize = 1\n",
    "def gradientDescentStochastic(epochs):\n",
    "    print 'Training started @%s, buckle up!' %datetime.now()\n",
    "    print 'Training set: %s, dev set: %s' %(train_y.shape, test_y.shape)\n",
    "    \n",
    "    start_time = time.time()\n",
    "    for i in range(epochs):\n",
    "        for start, end in zip(range(0, len(train_X), miniBatchSize), range(miniBatchSize, len(train_X), miniBatchSize)):\n",
    "            cost = train(train_X[start:end], train_y[start:end])\n",
    "#             print 'cost: %.3f' %cost\n",
    "        print '%d) %s: RMSE = %.4f' %(i+1, datetime.now(), np.sqrt(np.mean(np.square(test_y - predict(test_X)))))\n",
    "    print 'Total training time = %.2f' %(time.time() - start_time)\n",
    "\n",
    "# gradientDescentStochastic(10)\n",
    "\n",
    "# start_time = time.time()\n",
    "# predict(test_data)   \n",
    "# print 'predict time = %.2f' %(time.time() - start_time)"
   ]
  },
  {
   "cell_type": "code",
   "execution_count": null,
   "metadata": {
    "collapsed": false
   },
   "outputs": [
    {
     "name": "stdout",
     "output_type": "stream",
     "text": [
      "Training started @2015-08-01 22:48:23.601778, buckle up!\n",
      "Training set: (1926, 30), dev set: (214, 30)\n",
      "1) 2015-08-01 23:07:12.475591: RMSE = 0.3904"
     ]
    }
   ],
   "source": [
    "\n",
    "gradientDescentStochastic(10)\n"
   ]
  },
  {
   "cell_type": "markdown",
   "metadata": {},
   "source": [
    "###Visualization"
   ]
  },
  {
   "cell_type": "code",
   "execution_count": 4,
   "metadata": {
    "collapsed": false
   },
   "outputs": [
    {
     "data": {
      "image/png": "[encoded data removed]",
      "text/plain": [
       "<matplotlib.figure.Figure at 0x10c8f65d0>"
      ]
     },
     "metadata": {},
     "output_type": "display_data"
    },
    {
     "data": {
      "image/png": "[encoded data removed]",
      "text/plain": [
       "<matplotlib.figure.Figure at 0x10c8f6650>"
      ]
     },
     "metadata": {},
     "output_type": "display_data"
    }
   ],
   "source": [
    "\n",
    "\n",
    "# testing example    \n",
    "# ranges = [np.ptp(x) for x in X2]\n",
    "# id = np.argsort(ranges)[0]\n",
    "# plot(X2[0], 48*y2[0]+48)\n",
    "# plot(X2[id], 48*y2[id]+48)\n",
    "id=13\n",
    "plot(X[id], 48*y[id]+48)\n",
    "plot(X[id+X.shape[0]/2], 48*y[id+X.shape[0]/2]+48)"
   ]
  }
 ],
 "metadata": {
  "kernelspec": {
   "display_name": "Python 2",
   "language": "python",
   "name": "python2"
  },
  "language_info": {
   "codemirror_mode": {
    "name": "ipython",
    "version": 2
   },
   "file_extension": ".py",
   "mimetype": "text/x-python",
   "name": "python",
   "nbconvert_exporter": "python",
   "pygments_lexer": "ipython2",
   "version": "2.7.10"
  }
 },
 "nbformat": 4,
 "nbformat_minor": 0
}
